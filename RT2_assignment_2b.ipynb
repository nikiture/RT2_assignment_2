{
 "cells": [
  {
   "cell_type": "code",
   "execution_count": null,
   "id": "b89dbc44",
   "metadata": {},
   "outputs": [],
   "source": [
    "import jupyros\n",
    "import rospy\n",
    "from std_msgs.msg import Int32MultiArray as i32arr\n",
    "from geometry_msgs.msg import Pose, PoseStamped, Point\n",
    "from nav_msgs.msg import Odometry\n",
    "from assignment_2_2023.msg import Pos_vel\n",
    "from assignment_2_2023.msg import PlanningAction, PlanningGoal, PlanningActionGoal\n",
    "import assignment_2_2023 as assig\n",
    "import ipywidgets as widg\n",
    "from ipywidgets import Output\n",
    "import actionlib\n",
    "import actionlib_msgs\n",
    "import threading\n",
    "from IPython.display import display, clear_output\n",
    "import matplotlib\n",
    "import matplotlib.pyplot as pyplt\n",
    "from matplotlib.animation import FuncAnimation \n",
    "import numpy as np\n",
    "    \n",
    "\n",
    "rospy.init_node ('reach_position')\n"
   ]
  },
  {
   "cell_type": "code",
   "execution_count": null,
   "id": "e5fd0706",
   "metadata": {
    "scrolled": true
   },
   "outputs": [],
   "source": [
    "client = actionlib.SimpleActionClient ('/reaching_goal', PlanningAction)\n",
    "\n",
    "\n",
    "goal = PlanningGoal ()\n",
    "des_x = 0\n",
    "des_y = 0\n",
    "goal_set = 0\n",
    "goal_list = []\n",
    "goal_canc_list = []\n",
    "goal_out = Output ()\n",
    "\n",
    "\n",
    "\n",
    "def goal_finished (term_state, res):\n",
    "    global goal_set\n",
    "    goal_set = 0\n",
    "\n",
    "def setgoal (b):\n",
    "    global des_x, des_y, goal, goal_set, goal_list, goal_out, client\n",
    "    goal_active = True\n",
    "    if not client.gh is None:\n",
    "        goal_active = client.get_result ()\n",
    "    if goal_active:        \n",
    "        target = PoseStamped ()\n",
    "        target.pose.position.x = des_x\n",
    "        target.pose.position.y = des_y\n",
    "        client.stop_tracking_goal ()\n",
    "        goal = PlanningGoal ()\n",
    "        goal.target_pose = target\n",
    "        client.send_goal (goal, done_cb = goal_finished)\n",
    "        goal_list.append (goal)\n",
    "        with goal_out: \n",
    "            clear_output ()\n",
    "            print ('goal sent successfully')\n",
    "    else:\n",
    "        with goal_out:\n",
    "            clear_output ()\n",
    "            print ('goal already active, cancel the previous one first')\n",
    "            \n",
    "start = widg.Button (description ='set the target position, then press this button to start reaching the goal', \n",
    "                     layout = widg.Layout(width = '50%', height = '80px'))\n",
    "\n",
    "x_in = widg.IntText ()\n",
    "y_in = widg.IntText ()\n",
    "slid_box = widg.Box([x_in, y_in])\n",
    "\n",
    "def x_change (change):\n",
    "    global des_x\n",
    "    des_x = change ['new'] + 0.0\n",
    "    \n",
    "def y_change (change):\n",
    "    global des_y\n",
    "    des_y = change['new'] + 0.0\n",
    "    \n",
    "\n",
    "x_in.observe (x_change, names = 'value')\n",
    "y_in.observe (y_change, names = 'value')\n",
    "client.wait_for_server()\n",
    "\n",
    "start_box = widg.VBox ([slid_box, start])\n",
    "def goal_cancel (b):\n",
    "    global goal, goal_set, goal_list, goal_canc_list, goal_out, client\n",
    "    goal_active = False\n",
    "    if not client.gh is None:\n",
    "        goal_active = not client.get_result ()\n",
    "    if goal_active:\n",
    "        goal_canc_list.append (goal)\n",
    "        client.cancel_goal()\n",
    "        client.gh = None\n",
    "        with goal_out: \n",
    "            clear_output ()\n",
    "            print ('goal cancelled')\n",
    "        \n",
    "        \n",
    "end = widg.Button (description = 'press this button oo cancel the goal sent', \n",
    "                  layout = widg.Layout (width = '50%', height = '80px'))\n",
    "\n",
    "button_box = widg.VBox ([start_box, end])\n",
    "\n",
    "\n",
    "end.on_click (goal_cancel)\n",
    "start.on_click(setgoal)\n",
    "\n",
    "\n",
    "pub_msg = Pos_vel ()\n",
    "des_rate = 20\n",
    "rate = rospy.Rate (des_rate)\n",
    "def odom_cb (od_msg):\n",
    "    global pub_msg\n",
    "    pub_msg.x = od_msg.pose.pose.position.x\n",
    "    pub_msg.y = od_msg.pose.pose.position.y\n",
    "    pub_msg.vel_x = od_msg.twist.twist.linear.x\n",
    "    pub_msg.vel_y = od_msg.twist.twist.linear.y\n",
    "\n",
    "pub = rospy.Publisher ('/act_pos_vel', Pos_vel, queue_size = 1)\n",
    "sub = rospy.Subscriber ('/odom', Odometry, odom_cb)\n",
    "def message_publish ():\n",
    "    global pub_msg, rate\n",
    "    while not rospy.is_shutdown():\n",
    "        pub.publish (pub_msg)\n",
    "        rate.sleep()\n",
    "        \n",
    "t_pub = threading.Thread (target = message_publish, args = ())\n",
    "t_pub.start ()\n",
    "\n",
    "\n",
    "out = widg.Output ()\n",
    "pos_button = widg.Button (description = 'press this button to get the current position of the robot', \n",
    "                  layout = widg.Layout (width = '50%', height = '80px'))\n",
    "\n",
    "def disp_pos (b):\n",
    "    global pub_msg, out\n",
    "    x = pub_msg.x\n",
    "    y = pub_msg.y\n",
    "    \n",
    "    with out:\n",
    "        clear_output ()\n",
    "        print ('\\ncurrent robot position:\\n', x, y)\n",
    "\n",
    "pos_button.on_click (disp_pos)\n",
    "\n",
    "\n",
    "targ_out = Output ()\n",
    "canc_targ_out = Output ()\n",
    "def disp_goal (b):\n",
    "    global targ_out, goal_list\n",
    "    with targ_out:\n",
    "        clear_output ()\n",
    "        for targ in goal_list:\n",
    "            print (targ.target_pose.pose.position.x, targ.target_pose.pose.position.y)\n",
    "            print ('---------------------------------------------------------')\n",
    "        \n",
    "        \n",
    "def disp_canc_goal (b):\n",
    "    global canc_targ_out, goal_canc_list\n",
    "    with canc_targ_out:\n",
    "        clear_output ()\n",
    "        for targ in goal_canc_list:\n",
    "            print (targ.target_pose.pose.position.x, targ.target_pose.pose.position.y)\n",
    "            print ('---------------------------------------------------------')\n",
    "    \n",
    "goal_but = widg.Button (description = 'press this button to get the list of sent targets', \n",
    "                  layout = widg.Layout (width = '100%', height = '80px'))\n",
    "\n",
    "canc_but = widg.Button (description = 'press this button to get the list of cancelled targets', \n",
    "                  layout = widg.Layout (width = '100%', height = '80px'))\n",
    "\n",
    "goal_but.on_click (disp_goal)\n",
    "\n",
    "canc_but.on_click (disp_canc_goal)\n",
    "\n",
    "goal_box = widg.VBox ([goal_but, targ_out])\n",
    "canc_box = widg.VBox ([canc_but, canc_targ_out])\n",
    "\n",
    "\n",
    "%matplotlib notebook\n",
    "\n",
    "x_el = ('goals sent', 'goals cancelled')\n",
    "bar_width = 0.8\n",
    "\n",
    "x_ind = np.arange (1, 3) * bar_width\n",
    "\n",
    "\n",
    "class Visualiser:\n",
    "    def __init__(self):\n",
    "        self.fig, self.ax = pyplt.subplots(2, 1)\n",
    "        self.fig.set_figheight (10)\n",
    "        self.fig.set_figwidth (8)\n",
    "        \n",
    "        self.ln1, self.ln2, = self.ax [0].plot([], [], 'ro', [], [], 'bo')\n",
    "        \n",
    "        self.bar = self.ax [1].barh(x_el, [0, 0], bar_width, align = 'center', color = ('blue', 'red'))\n",
    "        \n",
    "        self.x_data, self.y_data = [] , []\n",
    "        self.target_x, self. target_y = [], []\n",
    "        self.canc_x, self.canc_y = [], []\n",
    "        \n",
    "        self.ax [0].set_xlim(-10, 10)\n",
    "        self.ax [0].set_ylim(-10, 10)\n",
    "        self.ax [0].set_xlabel ('x coordinate of robot (red) \\nand last target sent (blue)')\n",
    "        self.ax [0].set_ylabel ('y coordinate of robot (red) \\nand last target sent (blue)')\n",
    "        self.ax [0].invert_xaxis ()\n",
    "        self.ax [0].invert_yaxis ()\n",
    "\n",
    "        self.ax [1].set_xlim (0, 10)\n",
    "        self.ax [1].set_ylabel ('number of targets sent or cancelled')\n",
    "        self.ax [1].grid (True, axis = 'x')\n",
    "\n",
    "\n",
    "    def plot_init(self):\n",
    "        return (self.ln1, self.ln2, self.bar)#_init ())\n",
    "        \n",
    "        \n",
    "    def odom_callback(self, msg):\n",
    "        self.y_data.append(msg.pose.pose.position.y)\n",
    "        self.x_data.append(msg.pose.pose.position.x)\n",
    "        \n",
    "\n",
    "    def update_plot(self, frame):\n",
    "        self.ln1.set_data(self.x_data, self.y_data)\n",
    "        if len (self.target_x) != 0:\n",
    "            self.ln2.set_data ([self.target_x [-1]], [self.target_y [-1]])\n",
    "            \n",
    "        return (self.ln1, self.ln2, self.update_bar ())\n",
    "\n",
    "    def new_goal (self, msg):\n",
    "        self.target_x.append (msg.goal.target_pose.pose.position.x)\n",
    "        self.target_y.append (msg.goal.target_pose.pose.position.y)\n",
    "\n",
    "    def deleted_goal (self, msg):\n",
    "        self.canc_x.append (self.target_x [-1])\n",
    "        self.canc_y.append (self.target_y [-1])\n",
    "\n",
    "    def update_bar (self):\n",
    "        h_el = (len (self.target_x), len (self.canc_x))\n",
    "        self.ax [1].cla ()\n",
    "\n",
    "        self.bar = self.ax [1].barh (x_ind, h_el, color = ('blue', 'red'))\n",
    "        self.ax [1].set_xlim (0, max (h_el) + 2)\n",
    "        self.ax [1].invert_yaxis ()\n",
    "        self.ax [1].bar_label (self.bar, padding = 10)\n",
    "        self.ax [1].set_yticks (x_ind, x_el, rotation = 90, verticalalignment = 'center')\n",
    "        self.ax [1].grid (True, axis = 'x')\n",
    "        return self.bar"
   ]
  },
  {
   "cell_type": "code",
   "execution_count": null,
   "id": "e2543d6c",
   "metadata": {
    "scrolled": true
   },
   "outputs": [],
   "source": [
    "display (widg.VBox ([button_box, goal_out]))"
   ]
  },
  {
   "cell_type": "code",
   "execution_count": null,
   "id": "f5cecd16",
   "metadata": {},
   "outputs": [],
   "source": [
    "display (widg.VBox ([pos_button, out]))"
   ]
  },
  {
   "cell_type": "code",
   "execution_count": null,
   "id": "46c31506",
   "metadata": {},
   "outputs": [],
   "source": [
    "display (widg.HBox ([goal_box, canc_box]))"
   ]
  },
  {
   "cell_type": "code",
   "execution_count": null,
   "id": "ee5d9c07",
   "metadata": {},
   "outputs": [],
   "source": [
    "rob_vis = Visualiser ()\n",
    "plot_bar_ani = FuncAnimation (rob_vis.fig, rob_vis.update_plot, init_func=rob_vis.plot_init, cache_frame_data = False, blit = True)\n",
    "rob_pos_sub = rospy.Subscriber ('/odom', Odometry, rob_vis.odom_callback)\n",
    "goal_sub = rospy.Subscriber ('/reaching_goal/goal', PlanningActionGoal, rob_vis.new_goal)\n",
    "goal_canc_sub = rospy.Subscriber ('/reaching_goal/cancel', actionlib_msgs.msg.GoalID, rob_vis.deleted_goal)\n",
    "pyplt.show(block = True)\n"
   ]
  }
 ],
 "metadata": {
  "kernelspec": {
   "display_name": "Python 3 (ipykernel)",
   "language": "python",
   "name": "python3"
  },
  "language_info": {
   "codemirror_mode": {
    "name": "ipython",
    "version": 3
   },
   "file_extension": ".py",
   "mimetype": "text/x-python",
   "name": "python",
   "nbconvert_exporter": "python",
   "pygments_lexer": "ipython3",
   "version": "3.8.5"
  },
  "widgets": {
   "application/vnd.jupyter.widget-state+json": {
    "state": {
     "0bb0b919fba64405a451d7e52c87d3c6": {
      "model_module": "@jupyter-widgets/controls",
      "model_module_version": "1.5.0",
      "model_name": "VBoxModel",
      "state": {
       "children": [
        "IPY_MODEL_24be6e5334f24ffba76980af9245025b",
        "IPY_MODEL_1ea29528987b47fb9fb247c8e657cd31"
       ],
       "layout": "IPY_MODEL_8e2065def1344d3d9a0c1f6a3051ebaf"
      }
     },
     "0de56bee1c564b28bd5319652397b6d4": {
      "model_module": "@jupyter-widgets/controls",
      "model_module_version": "1.5.0",
      "model_name": "ButtonModel",
      "state": {
       "description": "press this button to get the list of cancelled targets",
       "layout": "IPY_MODEL_f08833182b754838873cd17c2105dd42",
       "style": "IPY_MODEL_5e93b344561c497fb983141371efaad0"
      }
     },
     "12265cec0e8341c490300738a4fde4f4": {
      "model_module": "@jupyter-widgets/base",
      "model_module_version": "1.2.0",
      "model_name": "LayoutModel",
      "state": {}
     },
     "147ecdb1f8474e04a761ea9873ec6bee": {
      "model_module": "@jupyter-widgets/controls",
      "model_module_version": "1.5.0",
      "model_name": "ButtonStyleModel",
      "state": {}
     },
     "16a83dd06e1d42449df54350e5532ce2": {
      "model_module": "@jupyter-widgets/base",
      "model_module_version": "1.2.0",
      "model_name": "LayoutModel",
      "state": {}
     },
     "1a0fe8a123ff4d4aaf238573aff01cac": {
      "model_module": "@jupyter-widgets/controls",
      "model_module_version": "1.5.0",
      "model_name": "IntTextModel",
      "state": {
       "layout": "IPY_MODEL_56494a025ec44a87b8882c94eac131f5",
       "step": 1,
       "style": "IPY_MODEL_d1b725af2279498fa30b9e251527a70d"
      }
     },
     "1d45b22f949f4c919910cdd14a0d05ca": {
      "model_module": "@jupyter-widgets/base",
      "model_module_version": "1.2.0",
      "model_name": "LayoutModel",
      "state": {}
     },
     "1ea29528987b47fb9fb247c8e657cd31": {
      "model_module": "@jupyter-widgets/output",
      "model_module_version": "1.0.0",
      "model_name": "OutputModel",
      "state": {
       "layout": "IPY_MODEL_12265cec0e8341c490300738a4fde4f4"
      }
     },
     "24be6e5334f24ffba76980af9245025b": {
      "model_module": "@jupyter-widgets/controls",
      "model_module_version": "1.5.0",
      "model_name": "ButtonModel",
      "state": {
       "description": "press this button to get the current position of the robot",
       "layout": "IPY_MODEL_f7a12a3953224e2e967c4c0e65f2d57c",
       "style": "IPY_MODEL_147ecdb1f8474e04a761ea9873ec6bee"
      }
     },
     "2c121614d9324aa0bd817abbe199a7a3": {
      "model_module": "@jupyter-widgets/output",
      "model_module_version": "1.0.0",
      "model_name": "OutputModel",
      "state": {
       "layout": "IPY_MODEL_666da72eebca48e0b229eac94b0d82ab"
      }
     },
     "2dd2e1578af94cc1a0249062aa3f829a": {
      "model_module": "@jupyter-widgets/base",
      "model_module_version": "1.2.0",
      "model_name": "LayoutModel",
      "state": {
       "height": "80px",
       "width": "100%"
      }
     },
     "3039ee744e5f4998a278c20f18b73746": {
      "model_module": "@jupyter-widgets/controls",
      "model_module_version": "1.5.0",
      "model_name": "ButtonModel",
      "state": {
       "description": "press this button to get the list of sent targets",
       "layout": "IPY_MODEL_2dd2e1578af94cc1a0249062aa3f829a",
       "style": "IPY_MODEL_82eabaeb77bb455e9961f4e02547ed1d"
      }
     },
     "3243f2cfcfb840c7b6ecb9a63f59ab35": {
      "model_module": "@jupyter-widgets/controls",
      "model_module_version": "1.5.0",
      "model_name": "ButtonStyleModel",
      "state": {}
     },
     "3c906262668a488ea74c5dcaaa9463ba": {
      "model_module": "@jupyter-widgets/controls",
      "model_module_version": "1.5.0",
      "model_name": "ButtonStyleModel",
      "state": {}
     },
     "3f67ef8bdcd94a469de0747861cb918c": {
      "model_module": "@jupyter-widgets/controls",
      "model_module_version": "1.5.0",
      "model_name": "ButtonModel",
      "state": {
       "description": "set the target position, then press this button to start reaching the goal",
       "layout": "IPY_MODEL_4634f6562cf846e8972ee0b1c83d1436",
       "style": "IPY_MODEL_3243f2cfcfb840c7b6ecb9a63f59ab35"
      }
     },
     "45df65ba5f014ee6a249ec9c595657c9": {
      "model_module": "@jupyter-widgets/controls",
      "model_module_version": "1.5.0",
      "model_name": "VBoxModel",
      "state": {
       "children": [
        "IPY_MODEL_e5d2e9bb8fdc4520841873dff413afbe",
        "IPY_MODEL_de162e72c60746dcbc15a471b6bb1705"
       ],
       "layout": "IPY_MODEL_772240df37bc430d92fa0c17da6cb429"
      }
     },
     "4634f6562cf846e8972ee0b1c83d1436": {
      "model_module": "@jupyter-widgets/base",
      "model_module_version": "1.2.0",
      "model_name": "LayoutModel",
      "state": {
       "height": "80px",
       "width": "50%"
      }
     },
     "499f2490178e448c9f64d075e5ec32cb": {
      "model_module": "@jupyter-widgets/base",
      "model_module_version": "1.2.0",
      "model_name": "LayoutModel",
      "state": {}
     },
     "4cc15b9a287044f9ad7aa866b29f3d3c": {
      "model_module": "@jupyter-widgets/controls",
      "model_module_version": "1.5.0",
      "model_name": "VBoxModel",
      "state": {
       "children": [
        "IPY_MODEL_3039ee744e5f4998a278c20f18b73746",
        "IPY_MODEL_2c121614d9324aa0bd817abbe199a7a3"
       ],
       "layout": "IPY_MODEL_edc8216ef68f4913b6006d9f60ad913f"
      }
     },
     "56494a025ec44a87b8882c94eac131f5": {
      "model_module": "@jupyter-widgets/base",
      "model_module_version": "1.2.0",
      "model_name": "LayoutModel",
      "state": {}
     },
     "56e7cea760ee4b4fa6922e1ca7db789a": {
      "model_module": "@jupyter-widgets/base",
      "model_module_version": "1.2.0",
      "model_name": "LayoutModel",
      "state": {}
     },
     "5e93b344561c497fb983141371efaad0": {
      "model_module": "@jupyter-widgets/controls",
      "model_module_version": "1.5.0",
      "model_name": "ButtonStyleModel",
      "state": {}
     },
     "666da72eebca48e0b229eac94b0d82ab": {
      "model_module": "@jupyter-widgets/base",
      "model_module_version": "1.2.0",
      "model_name": "LayoutModel",
      "state": {}
     },
     "67d50c1616704ae9bb3472dca8e834c9": {
      "model_module": "@jupyter-widgets/controls",
      "model_module_version": "1.5.0",
      "model_name": "VBoxModel",
      "state": {
       "children": [
        "IPY_MODEL_45df65ba5f014ee6a249ec9c595657c9",
        "IPY_MODEL_8adc8ecabbea4e559740e97a72694226"
       ],
       "layout": "IPY_MODEL_16a83dd06e1d42449df54350e5532ce2"
      }
     },
     "6e3cc24726bc447099024de06b5bc7f6": {
      "model_module": "@jupyter-widgets/base",
      "model_module_version": "1.2.0",
      "model_name": "LayoutModel",
      "state": {}
     },
     "772240df37bc430d92fa0c17da6cb429": {
      "model_module": "@jupyter-widgets/base",
      "model_module_version": "1.2.0",
      "model_name": "LayoutModel",
      "state": {}
     },
     "82eabaeb77bb455e9961f4e02547ed1d": {
      "model_module": "@jupyter-widgets/controls",
      "model_module_version": "1.5.0",
      "model_name": "ButtonStyleModel",
      "state": {}
     },
     "8adc8ecabbea4e559740e97a72694226": {
      "model_module": "@jupyter-widgets/output",
      "model_module_version": "1.0.0",
      "model_name": "OutputModel",
      "state": {
       "layout": "IPY_MODEL_6e3cc24726bc447099024de06b5bc7f6",
       "outputs": [
        {
         "name": "stdout",
         "output_type": "stream",
         "text": "goal sent successfully\n"
        }
       ]
      }
     },
     "8e2065def1344d3d9a0c1f6a3051ebaf": {
      "model_module": "@jupyter-widgets/base",
      "model_module_version": "1.2.0",
      "model_name": "LayoutModel",
      "state": {}
     },
     "955c3bc30eaa43cd92a2e62ee64effd2": {
      "model_module": "@jupyter-widgets/controls",
      "model_module_version": "1.5.0",
      "model_name": "VBoxModel",
      "state": {
       "children": [
        "IPY_MODEL_0de56bee1c564b28bd5319652397b6d4",
        "IPY_MODEL_ae7ff467f49a42829dd2666ff830e802"
       ],
       "layout": "IPY_MODEL_96961b3abac741b9b8714d4772bcb38b"
      }
     },
     "96961b3abac741b9b8714d4772bcb38b": {
      "model_module": "@jupyter-widgets/base",
      "model_module_version": "1.2.0",
      "model_name": "LayoutModel",
      "state": {}
     },
     "9b3e657a8516495da88104e14e6fc30b": {
      "model_module": "@jupyter-widgets/base",
      "model_module_version": "1.2.0",
      "model_name": "LayoutModel",
      "state": {
       "height": "80px",
       "width": "50%"
      }
     },
     "ae7ff467f49a42829dd2666ff830e802": {
      "model_module": "@jupyter-widgets/output",
      "model_module_version": "1.0.0",
      "model_name": "OutputModel",
      "state": {
       "layout": "IPY_MODEL_f1e27c78954544d0b698d51825b0f2ea"
      }
     },
     "b8666ab0e4f04953a3c836087b1122f0": {
      "model_module": "@jupyter-widgets/controls",
      "model_module_version": "1.5.0",
      "model_name": "HBoxModel",
      "state": {
       "children": [
        "IPY_MODEL_4cc15b9a287044f9ad7aa866b29f3d3c",
        "IPY_MODEL_955c3bc30eaa43cd92a2e62ee64effd2"
       ],
       "layout": "IPY_MODEL_56e7cea760ee4b4fa6922e1ca7db789a"
      }
     },
     "bbf2b3029ef947daa572554d529bc30f": {
      "model_module": "@jupyter-widgets/base",
      "model_module_version": "1.2.0",
      "model_name": "LayoutModel",
      "state": {}
     },
     "c593722575a146deae789204327bdbba": {
      "model_module": "@jupyter-widgets/controls",
      "model_module_version": "1.5.0",
      "model_name": "DescriptionStyleModel",
      "state": {
       "description_width": ""
      }
     },
     "d1b725af2279498fa30b9e251527a70d": {
      "model_module": "@jupyter-widgets/controls",
      "model_module_version": "1.5.0",
      "model_name": "DescriptionStyleModel",
      "state": {
       "description_width": ""
      }
     },
     "de162e72c60746dcbc15a471b6bb1705": {
      "model_module": "@jupyter-widgets/controls",
      "model_module_version": "1.5.0",
      "model_name": "ButtonModel",
      "state": {
       "description": "press this button oo cancel the goal sent",
       "layout": "IPY_MODEL_9b3e657a8516495da88104e14e6fc30b",
       "style": "IPY_MODEL_3c906262668a488ea74c5dcaaa9463ba"
      }
     },
     "e5d2e9bb8fdc4520841873dff413afbe": {
      "model_module": "@jupyter-widgets/controls",
      "model_module_version": "1.5.0",
      "model_name": "VBoxModel",
      "state": {
       "children": [
        "IPY_MODEL_ff38e922c21f452495abd608e68ed2c6",
        "IPY_MODEL_3f67ef8bdcd94a469de0747861cb918c"
       ],
       "layout": "IPY_MODEL_499f2490178e448c9f64d075e5ec32cb"
      }
     },
     "edc8216ef68f4913b6006d9f60ad913f": {
      "model_module": "@jupyter-widgets/base",
      "model_module_version": "1.2.0",
      "model_name": "LayoutModel",
      "state": {}
     },
     "f08833182b754838873cd17c2105dd42": {
      "model_module": "@jupyter-widgets/base",
      "model_module_version": "1.2.0",
      "model_name": "LayoutModel",
      "state": {
       "height": "80px",
       "width": "100%"
      }
     },
     "f1e27c78954544d0b698d51825b0f2ea": {
      "model_module": "@jupyter-widgets/base",
      "model_module_version": "1.2.0",
      "model_name": "LayoutModel",
      "state": {}
     },
     "f7a12a3953224e2e967c4c0e65f2d57c": {
      "model_module": "@jupyter-widgets/base",
      "model_module_version": "1.2.0",
      "model_name": "LayoutModel",
      "state": {
       "height": "80px",
       "width": "50%"
      }
     },
     "f7ab85248a354682916983d69d1c155c": {
      "model_module": "@jupyter-widgets/controls",
      "model_module_version": "1.5.0",
      "model_name": "IntTextModel",
      "state": {
       "layout": "IPY_MODEL_bbf2b3029ef947daa572554d529bc30f",
       "step": 1,
       "style": "IPY_MODEL_c593722575a146deae789204327bdbba"
      }
     },
     "ff38e922c21f452495abd608e68ed2c6": {
      "model_module": "@jupyter-widgets/controls",
      "model_module_version": "1.5.0",
      "model_name": "BoxModel",
      "state": {
       "children": [
        "IPY_MODEL_f7ab85248a354682916983d69d1c155c",
        "IPY_MODEL_1a0fe8a123ff4d4aaf238573aff01cac"
       ],
       "layout": "IPY_MODEL_1d45b22f949f4c919910cdd14a0d05ca"
      }
     }
    },
    "version_major": 2,
    "version_minor": 0
   }
  }
 },
 "nbformat": 4,
 "nbformat_minor": 5
}
